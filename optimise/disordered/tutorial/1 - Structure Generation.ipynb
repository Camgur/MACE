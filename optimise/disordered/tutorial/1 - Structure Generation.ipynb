{
 "cells": [
  {
   "cell_type": "markdown",
   "metadata": {},
   "source": [
    "# Introduction\n",
    "\n",
    "This notebook demonstrates how to perform structure enumeration using Python Materials Genomics (pymatgen).\n",
    "\n",
    "Let's start by importing some modules and classes that we will be using."
   ]
  },
  {
   "cell_type": "code",
   "execution_count": 1,
   "metadata": {
    "collapsed": true
   },
   "outputs": [],
   "source": [
    "from pymatgen.core import Structure\n",
    "from pymatgen.symmetry.analyzer import SpacegroupAnalyzer\n",
    "from pymatgen.transformations.advanced_transformations import EnumerateStructureTransformation\n",
    "from pymatgen.io.vasp.sets import batch_write_input, MPRelaxSet"
   ]
  },
  {
   "cell_type": "markdown",
   "metadata": {},
   "source": [
    "# Preparation\n",
    "\n",
    "We will first read in the structure from crystallographic information file (CIF) found in ICSD."
   ]
  },
  {
   "cell_type": "code",
   "execution_count": 2,
   "metadata": {
    "collapsed": false
   },
   "outputs": [
    {
     "name": "stdout",
     "output_type": "stream",
     "text": [
      "Full Formula (Li26.88 P4 S20 Cl4)\n",
      "Reduced Formula: Li26.88P4S20Cl4\n",
      "abc   :   9.859000   9.859000   9.859000\n",
      "angles:  90.000000  90.000000  90.000000\n",
      "pbc   :       True       True       True\n",
      "Sites (76)\n",
      "  #  SP              a        b        c\n",
      "---  --------  -------  -------  -------\n",
      "  0  Li+:0.56  0.3148   0.982    0.3148\n",
      "  1  Li+:0.56  0.982    0.6852   0.6852\n",
      "  2  Li+:0.56  0.6852   0.3148   0.018\n",
      "  3  Li+:0.56  0.3148   0.6852   0.018\n",
      "  4  Li+:0.56  0.982    0.3148   0.3148\n",
      "  5  Li+:0.56  0.6852   0.982    0.6852\n",
      "  6  Li+:0.56  0.3148   0.018    0.6852\n",
      "  7  Li+:0.56  0.6852   0.6852   0.982\n",
      "  8  Li+:0.56  0.3148   0.3148   0.982\n",
      "  9  Li+:0.56  0.6852   0.018    0.3148\n",
      " 10  Li+:0.56  0.018    0.6852   0.3148\n",
      " 11  Li+:0.56  0.018    0.3148   0.6852\n",
      " 12  Li+:0.56  0.3148   0.482    0.8148\n",
      " 13  Li+:0.56  0.982    0.1852   0.1852\n",
      " 14  Li+:0.56  0.6852   0.8148   0.518\n",
      " 15  Li+:0.56  0.3148   0.1852   0.518\n",
      " 16  Li+:0.56  0.982    0.8148   0.8148\n",
      " 17  Li+:0.56  0.6852   0.482    0.1852\n",
      " 18  Li+:0.56  0.3148   0.518    0.1852\n",
      " 19  Li+:0.56  0.6852   0.1852   0.482\n",
      " 20  Li+:0.56  0.3148   0.8148   0.482\n",
      " 21  Li+:0.56  0.6852   0.518    0.8148\n",
      " 22  Li+:0.56  0.018    0.1852   0.8148\n",
      " 23  Li+:0.56  0.018    0.8148   0.1852\n",
      " 24  Li+:0.56  0.8148   0.982    0.8148\n",
      " 25  Li+:0.56  0.482    0.6852   0.1852\n",
      " 26  Li+:0.56  0.1852   0.3148   0.518\n",
      " 27  Li+:0.56  0.8148   0.6852   0.518\n",
      " 28  Li+:0.56  0.482    0.3148   0.8148\n",
      " 29  Li+:0.56  0.1852   0.982    0.1852\n",
      " 30  Li+:0.56  0.8148   0.018    0.1852\n",
      " 31  Li+:0.56  0.1852   0.6852   0.482\n",
      " 32  Li+:0.56  0.8148   0.3148   0.482\n",
      " 33  Li+:0.56  0.1852   0.018    0.8148\n",
      " 34  Li+:0.56  0.518    0.6852   0.8148\n",
      " 35  Li+:0.56  0.518    0.3148   0.1852\n",
      " 36  Li+:0.56  0.8148   0.482    0.3148\n",
      " 37  Li+:0.56  0.482    0.1852   0.6852\n",
      " 38  Li+:0.56  0.1852   0.8148   0.018\n",
      " 39  Li+:0.56  0.8148   0.1852   0.018\n",
      " 40  Li+:0.56  0.482    0.8148   0.3148\n",
      " 41  Li+:0.56  0.1852   0.482    0.6852\n",
      " 42  Li+:0.56  0.8148   0.518    0.6852\n",
      " 43  Li+:0.56  0.1852   0.1852   0.982\n",
      " 44  Li+:0.56  0.8148   0.8148   0.982\n",
      " 45  Li+:0.56  0.1852   0.518    0.3148\n",
      " 46  Li+:0.56  0.518    0.1852   0.3148\n",
      " 47  Li+:0.56  0.518    0.8148   0.6852\n",
      " 48  P5+       0.5      0        0\n",
      " 49  P5+       0        0        0.5\n",
      " 50  P5+       0        0.5      0\n",
      " 51  P5+       0.5      0.5      0.5\n",
      " 52  S2-       0.25     0.75     0.25\n",
      " 53  S2-       0.75     0.75     0.75\n",
      " 54  S2-       0.75     0.25     0.25\n",
      " 55  S2-       0.25     0.25     0.75\n",
      " 56  S2-       0.38053  0.11947  0.11947\n",
      " 57  S2-       0.11947  0.88053  0.61947\n",
      " 58  S2-       0.88053  0.38053  0.88053\n",
      " 59  S2-       0.38053  0.88053  0.88053\n",
      " 60  S2-       0.11947  0.38053  0.11947\n",
      " 61  S2-       0.88053  0.11947  0.61947\n",
      " 62  S2-       0.11947  0.11947  0.38053\n",
      " 63  S2-       0.88053  0.61947  0.11947\n",
      " 64  S2-       0.11947  0.61947  0.88053\n",
      " 65  S2-       0.88053  0.88053  0.38053\n",
      " 66  S2-       0.61947  0.11947  0.88053\n",
      " 67  S2-       0.61947  0.88053  0.11947\n",
      " 68  S2-       0.38053  0.61947  0.61947\n",
      " 69  S2-       0.38053  0.38053  0.38053\n",
      " 70  S2-       0.61947  0.61947  0.38053\n",
      " 71  S2-       0.61947  0.38053  0.61947\n",
      " 72  Cl-       0        0        0\n",
      " 73  Cl-       0        0.5      0.5\n",
      " 74  Cl-       0.5      0        0.5\n",
      " 75  Cl-       0.5      0.5      0\n"
     ]
    }
   ],
   "source": [
    "structure = Structure.from_file(\"EntryWithCollCode418490.cif\")\n",
    "print(structure)"
   ]
  },
  {
   "cell_type": "markdown",
   "metadata": {},
   "source": [
    "From the above, we see that the reported experimental structure has Li disorder. The occupancy of Li is higher than what would be expected for a Li6PS5Cl nominal composition. We will first adjust the composition by setting the Li occupancies to 0.5 to obtain stoichiometric charge-balanced Li6PS5Cl."
   ]
  },
  {
   "cell_type": "code",
   "execution_count": 3,
   "metadata": {
    "collapsed": false
   },
   "outputs": [
    {
     "name": "stdout",
     "output_type": "stream",
     "text": [
      "The composition after adjustments is Li6PS5Cl.\n"
     ]
    }
   ],
   "source": [
    "# loop over all sites in the structure\n",
    "for i, site in enumerate(structure):\n",
    "    # change the occupancy of Li+ disordered sites to 0.5\n",
    "    if not site.is_ordered:\n",
    "        structure[i] = {\"Li+\": 0.5}\n",
    "print(\"The composition after adjustments is %s.\" % structure.composition.reduced_formula)"
   ]
  },
  {
   "cell_type": "markdown",
   "metadata": {},
   "source": [
    "To keep the number of orderings manageable, we will perform enumeration only on the primitive cell. The primitive cell can be obtained using the *SpacegroupAnalyzer*."
   ]
  },
  {
   "cell_type": "code",
   "execution_count": 4,
   "metadata": {
    "collapsed": false
   },
   "outputs": [
    {
     "name": "stdout",
     "output_type": "stream",
     "text": [
      "Full Formula (Li6 P1 S5 Cl1)\n",
      "Reduced Formula: Li6PS5Cl\n",
      "abc   :   6.971366   6.971366   6.971366\n",
      "angles:  60.000000  60.000000  60.000000\n",
      "pbc   :       True       True       True\n",
      "Sites (19)\n",
      "  #  SP             a        b        c\n",
      "---  -------  -------  -------  -------\n",
      "  0  Li+:0.5  0.018    0.3524   0.018\n",
      "  1  Li+:0.5  0.018    0.018    0.6116\n",
      "  2  Li+:0.5  0.018    0.6116   0.3524\n",
      "  3  Li+:0.5  0.018    0.3524   0.6116\n",
      "  4  Li+:0.5  0.018    0.018    0.3524\n",
      "  5  Li+:0.5  0.018    0.6116   0.018\n",
      "  6  Li+:0.5  0.3524   0.018    0.6116\n",
      "  7  Li+:0.5  0.6116   0.018    0.018\n",
      "  8  Li+:0.5  0.3524   0.018    0.018\n",
      "  9  Li+:0.5  0.6116   0.018    0.3524\n",
      " 10  Li+:0.5  0.6116   0.3524   0.018\n",
      " 11  Li+:0.5  0.3524   0.6116   0.018\n",
      " 12  P5+      0.5      0.5      0.5\n",
      " 13  S2-      0.25     0.25     0.25\n",
      " 14  S2-      0.61947  0.61947  0.14159\n",
      " 15  S2-      0.61947  0.14159  0.61947\n",
      " 16  S2-      0.61947  0.61947  0.61947\n",
      " 17  S2-      0.14159  0.61947  0.61947\n",
      " 18  Cl-      0        0        0\n"
     ]
    }
   ],
   "source": [
    "analyzer = SpacegroupAnalyzer(structure)\n",
    "prim_cell = analyzer.find_primitive()\n",
    "print(prim_cell)"
   ]
  },
  {
   "cell_type": "markdown",
   "metadata": {},
   "source": [
    "# Enumerate structures using enumlib\n",
    "\n",
    "We will use the *EnumerateStructureTransformation* class to enumerate all symmetrically distinct structures. *EnumerateStructureTransformation* is a user-friendly wrapper around enumlib, a fortran library to generate derivative structures written by Hart et al."
   ]
  },
  {
   "cell_type": "code",
   "execution_count": 6,
   "metadata": {
    "collapsed": false
   },
   "outputs": [
    {
     "ename": "OSError",
     "evalue": "[WinError 193] %1 is not a valid Win32 application",
     "output_type": "error",
     "traceback": [
      "\u001b[1;31m---------------------------------------------------------------------------\u001b[0m",
      "\u001b[1;31mOSError\u001b[0m                                   Traceback (most recent call last)",
      "Cell \u001b[1;32mIn[6], line 2\u001b[0m\n\u001b[0;32m      1\u001b[0m enum \u001b[38;5;241m=\u001b[39m EnumerateStructureTransformation(max_cell_size\u001b[38;5;241m=\u001b[39m\u001b[38;5;241m4\u001b[39m)\n\u001b[1;32m----> 2\u001b[0m enumerated \u001b[38;5;241m=\u001b[39m \u001b[43menum\u001b[49m\u001b[38;5;241;43m.\u001b[39;49m\u001b[43mapply_transformation\u001b[49m\u001b[43m(\u001b[49m\u001b[43mprim_cell\u001b[49m\u001b[43m,\u001b[49m\u001b[43m \u001b[49m\u001b[38;5;241;43m100\u001b[39;49m\u001b[43m)\u001b[49m  \u001b[38;5;66;03m# return no more than 100 structures\u001b[39;00m\n\u001b[0;32m      3\u001b[0m structures \u001b[38;5;241m=\u001b[39m [d[\u001b[38;5;124m\"\u001b[39m\u001b[38;5;124mstructure\u001b[39m\u001b[38;5;124m\"\u001b[39m] \u001b[38;5;28;01mfor\u001b[39;00m d \u001b[38;5;129;01min\u001b[39;00m enumerated]  \n\u001b[0;32m      4\u001b[0m \u001b[38;5;28mprint\u001b[39m(\u001b[38;5;124m\"\u001b[39m\u001b[38;5;132;01m%d\u001b[39;00m\u001b[38;5;124m structures returned.\u001b[39m\u001b[38;5;124m\"\u001b[39m \u001b[38;5;241m%\u001b[39m \u001b[38;5;28mlen\u001b[39m(structures))\n",
      "File \u001b[1;32mc:\\Users\\camgu\\Goward\\Code\\mace-env\\Lib\\site-packages\\pymatgen\\transformations\\advanced_transformations.py:386\u001b[0m, in \u001b[0;36mEnumerateStructureTransformation.apply_transformation\u001b[1;34m(self, structure, return_ranked_list)\u001b[0m\n\u001b[0;32m    375\u001b[0m adaptor \u001b[38;5;241m=\u001b[39m EnumlibAdaptor(\n\u001b[0;32m    376\u001b[0m     structure,\n\u001b[0;32m    377\u001b[0m     min_cell_size\u001b[38;5;241m=\u001b[39m\u001b[38;5;28mself\u001b[39m\u001b[38;5;241m.\u001b[39mmin_cell_size,\n\u001b[1;32m   (...)\u001b[0m\n\u001b[0;32m    383\u001b[0m     timeout\u001b[38;5;241m=\u001b[39m\u001b[38;5;28mself\u001b[39m\u001b[38;5;241m.\u001b[39mtimeout,\n\u001b[0;32m    384\u001b[0m )\n\u001b[0;32m    385\u001b[0m \u001b[38;5;28;01mtry\u001b[39;00m:\n\u001b[1;32m--> 386\u001b[0m     \u001b[43madaptor\u001b[49m\u001b[38;5;241;43m.\u001b[39;49m\u001b[43mrun\u001b[49m\u001b[43m(\u001b[49m\u001b[43m)\u001b[49m\n\u001b[0;32m    387\u001b[0m     structures \u001b[38;5;241m=\u001b[39m adaptor\u001b[38;5;241m.\u001b[39mstructures\n\u001b[0;32m    388\u001b[0m     \u001b[38;5;28;01mif\u001b[39;00m structures:\n",
      "File \u001b[1;32mc:\\Users\\camgu\\Goward\\Code\\mace-env\\Lib\\site-packages\\pymatgen\\command_line\\enumlib_caller.py:136\u001b[0m, in \u001b[0;36mEnumlibAdaptor.run\u001b[1;34m(self)\u001b[0m\n\u001b[0;32m    134\u001b[0m \u001b[38;5;66;03m# Read in the enumeration output as structures.\u001b[39;00m\n\u001b[0;32m    135\u001b[0m \u001b[38;5;28;01mif\u001b[39;00m num_structs \u001b[38;5;241m>\u001b[39m \u001b[38;5;241m0\u001b[39m:\n\u001b[1;32m--> 136\u001b[0m     \u001b[38;5;28mself\u001b[39m\u001b[38;5;241m.\u001b[39mstructures \u001b[38;5;241m=\u001b[39m \u001b[38;5;28;43mself\u001b[39;49m\u001b[38;5;241;43m.\u001b[39;49m\u001b[43m_get_structures\u001b[49m\u001b[43m(\u001b[49m\u001b[43mnum_structs\u001b[49m\u001b[43m)\u001b[49m\n\u001b[0;32m    137\u001b[0m \u001b[38;5;28;01melse\u001b[39;00m:\n\u001b[0;32m    138\u001b[0m     \u001b[38;5;28;01mraise\u001b[39;00m EnumError(\u001b[38;5;124m\"\u001b[39m\u001b[38;5;124mUnable to enumerate structure.\u001b[39m\u001b[38;5;124m\"\u001b[39m)\n",
      "File \u001b[1;32mc:\\Users\\camgu\\Goward\\Code\\mace-env\\Lib\\site-packages\\pymatgen\\command_line\\enumlib_caller.py:311\u001b[0m, in \u001b[0;36mEnumlibAdaptor._get_structures\u001b[1;34m(self, num_structs)\u001b[0m\n\u001b[0;32m    308\u001b[0m \u001b[38;5;28;01melse\u001b[39;00m:\n\u001b[0;32m    309\u001b[0m     options \u001b[38;5;241m=\u001b[39m [\u001b[38;5;124m\"\u001b[39m\u001b[38;5;124mstruct_enum.out\u001b[39m\u001b[38;5;124m\"\u001b[39m, \u001b[38;5;28mstr\u001b[39m(\u001b[38;5;241m0\u001b[39m), \u001b[38;5;28mstr\u001b[39m(num_structs \u001b[38;5;241m-\u001b[39m \u001b[38;5;241m1\u001b[39m)]\n\u001b[1;32m--> 311\u001b[0m \u001b[38;5;28;01mwith\u001b[39;00m \u001b[43msubprocess\u001b[49m\u001b[38;5;241;43m.\u001b[39;49m\u001b[43mPopen\u001b[49m\u001b[43m(\u001b[49m\n\u001b[0;32m    312\u001b[0m \u001b[43m    \u001b[49m\u001b[43m[\u001b[49m\u001b[43mmakestr_cmd\u001b[49m\u001b[43m,\u001b[49m\u001b[43m \u001b[49m\u001b[38;5;241;43m*\u001b[39;49m\u001b[43moptions\u001b[49m\u001b[43m]\u001b[49m\u001b[43m,\u001b[49m\n\u001b[0;32m    313\u001b[0m \u001b[43m    \u001b[49m\u001b[43mstdout\u001b[49m\u001b[38;5;241;43m=\u001b[39;49m\u001b[43msubprocess\u001b[49m\u001b[38;5;241;43m.\u001b[39;49m\u001b[43mPIPE\u001b[49m\u001b[43m,\u001b[49m\n\u001b[0;32m    314\u001b[0m \u001b[43m    \u001b[49m\u001b[43mstdin\u001b[49m\u001b[38;5;241;43m=\u001b[39;49m\u001b[43msubprocess\u001b[49m\u001b[38;5;241;43m.\u001b[39;49m\u001b[43mPIPE\u001b[49m\u001b[43m,\u001b[49m\n\u001b[0;32m    315\u001b[0m \u001b[43m    \u001b[49m\u001b[43mclose_fds\u001b[49m\u001b[38;5;241;43m=\u001b[39;49m\u001b[38;5;28;43;01mTrue\u001b[39;49;00m\u001b[43m,\u001b[49m\n\u001b[0;32m    316\u001b[0m \u001b[43m\u001b[49m\u001b[43m)\u001b[49m \u001b[38;5;28;01mas\u001b[39;00m rs:\n\u001b[0;32m    317\u001b[0m     _stdout, stderr \u001b[38;5;241m=\u001b[39m rs\u001b[38;5;241m.\u001b[39mcommunicate()\n\u001b[0;32m    318\u001b[0m \u001b[38;5;28;01mif\u001b[39;00m stderr:\n",
      "File \u001b[1;32m~\\AppData\\Local\\Programs\\Python\\Python311\\Lib\\subprocess.py:1026\u001b[0m, in \u001b[0;36mPopen.__init__\u001b[1;34m(self, args, bufsize, executable, stdin, stdout, stderr, preexec_fn, close_fds, shell, cwd, env, universal_newlines, startupinfo, creationflags, restore_signals, start_new_session, pass_fds, user, group, extra_groups, encoding, errors, text, umask, pipesize, process_group)\u001b[0m\n\u001b[0;32m   1022\u001b[0m         \u001b[38;5;28;01mif\u001b[39;00m \u001b[38;5;28mself\u001b[39m\u001b[38;5;241m.\u001b[39mtext_mode:\n\u001b[0;32m   1023\u001b[0m             \u001b[38;5;28mself\u001b[39m\u001b[38;5;241m.\u001b[39mstderr \u001b[38;5;241m=\u001b[39m io\u001b[38;5;241m.\u001b[39mTextIOWrapper(\u001b[38;5;28mself\u001b[39m\u001b[38;5;241m.\u001b[39mstderr,\n\u001b[0;32m   1024\u001b[0m                     encoding\u001b[38;5;241m=\u001b[39mencoding, errors\u001b[38;5;241m=\u001b[39merrors)\n\u001b[1;32m-> 1026\u001b[0m     \u001b[38;5;28;43mself\u001b[39;49m\u001b[38;5;241;43m.\u001b[39;49m\u001b[43m_execute_child\u001b[49m\u001b[43m(\u001b[49m\u001b[43margs\u001b[49m\u001b[43m,\u001b[49m\u001b[43m \u001b[49m\u001b[43mexecutable\u001b[49m\u001b[43m,\u001b[49m\u001b[43m \u001b[49m\u001b[43mpreexec_fn\u001b[49m\u001b[43m,\u001b[49m\u001b[43m \u001b[49m\u001b[43mclose_fds\u001b[49m\u001b[43m,\u001b[49m\n\u001b[0;32m   1027\u001b[0m \u001b[43m                        \u001b[49m\u001b[43mpass_fds\u001b[49m\u001b[43m,\u001b[49m\u001b[43m \u001b[49m\u001b[43mcwd\u001b[49m\u001b[43m,\u001b[49m\u001b[43m \u001b[49m\u001b[43menv\u001b[49m\u001b[43m,\u001b[49m\n\u001b[0;32m   1028\u001b[0m \u001b[43m                        \u001b[49m\u001b[43mstartupinfo\u001b[49m\u001b[43m,\u001b[49m\u001b[43m \u001b[49m\u001b[43mcreationflags\u001b[49m\u001b[43m,\u001b[49m\u001b[43m \u001b[49m\u001b[43mshell\u001b[49m\u001b[43m,\u001b[49m\n\u001b[0;32m   1029\u001b[0m \u001b[43m                        \u001b[49m\u001b[43mp2cread\u001b[49m\u001b[43m,\u001b[49m\u001b[43m \u001b[49m\u001b[43mp2cwrite\u001b[49m\u001b[43m,\u001b[49m\n\u001b[0;32m   1030\u001b[0m \u001b[43m                        \u001b[49m\u001b[43mc2pread\u001b[49m\u001b[43m,\u001b[49m\u001b[43m \u001b[49m\u001b[43mc2pwrite\u001b[49m\u001b[43m,\u001b[49m\n\u001b[0;32m   1031\u001b[0m \u001b[43m                        \u001b[49m\u001b[43merrread\u001b[49m\u001b[43m,\u001b[49m\u001b[43m \u001b[49m\u001b[43merrwrite\u001b[49m\u001b[43m,\u001b[49m\n\u001b[0;32m   1032\u001b[0m \u001b[43m                        \u001b[49m\u001b[43mrestore_signals\u001b[49m\u001b[43m,\u001b[49m\n\u001b[0;32m   1033\u001b[0m \u001b[43m                        \u001b[49m\u001b[43mgid\u001b[49m\u001b[43m,\u001b[49m\u001b[43m \u001b[49m\u001b[43mgids\u001b[49m\u001b[43m,\u001b[49m\u001b[43m \u001b[49m\u001b[43muid\u001b[49m\u001b[43m,\u001b[49m\u001b[43m \u001b[49m\u001b[43mumask\u001b[49m\u001b[43m,\u001b[49m\n\u001b[0;32m   1034\u001b[0m \u001b[43m                        \u001b[49m\u001b[43mstart_new_session\u001b[49m\u001b[43m,\u001b[49m\u001b[43m \u001b[49m\u001b[43mprocess_group\u001b[49m\u001b[43m)\u001b[49m\n\u001b[0;32m   1035\u001b[0m \u001b[38;5;28;01mexcept\u001b[39;00m:\n\u001b[0;32m   1036\u001b[0m     \u001b[38;5;66;03m# Cleanup if the child failed starting.\u001b[39;00m\n\u001b[0;32m   1037\u001b[0m     \u001b[38;5;28;01mfor\u001b[39;00m f \u001b[38;5;129;01min\u001b[39;00m \u001b[38;5;28mfilter\u001b[39m(\u001b[38;5;28;01mNone\u001b[39;00m, (\u001b[38;5;28mself\u001b[39m\u001b[38;5;241m.\u001b[39mstdin, \u001b[38;5;28mself\u001b[39m\u001b[38;5;241m.\u001b[39mstdout, \u001b[38;5;28mself\u001b[39m\u001b[38;5;241m.\u001b[39mstderr)):\n",
      "File \u001b[1;32m~\\AppData\\Local\\Programs\\Python\\Python311\\Lib\\subprocess.py:1538\u001b[0m, in \u001b[0;36mPopen._execute_child\u001b[1;34m(self, args, executable, preexec_fn, close_fds, pass_fds, cwd, env, startupinfo, creationflags, shell, p2cread, p2cwrite, c2pread, c2pwrite, errread, errwrite, unused_restore_signals, unused_gid, unused_gids, unused_uid, unused_umask, unused_start_new_session, unused_process_group)\u001b[0m\n\u001b[0;32m   1536\u001b[0m \u001b[38;5;66;03m# Start the process\u001b[39;00m\n\u001b[0;32m   1537\u001b[0m \u001b[38;5;28;01mtry\u001b[39;00m:\n\u001b[1;32m-> 1538\u001b[0m     hp, ht, pid, tid \u001b[38;5;241m=\u001b[39m \u001b[43m_winapi\u001b[49m\u001b[38;5;241;43m.\u001b[39;49m\u001b[43mCreateProcess\u001b[49m\u001b[43m(\u001b[49m\u001b[43mexecutable\u001b[49m\u001b[43m,\u001b[49m\u001b[43m \u001b[49m\u001b[43margs\u001b[49m\u001b[43m,\u001b[49m\n\u001b[0;32m   1539\u001b[0m \u001b[43m                             \u001b[49m\u001b[38;5;66;43;03m# no special security\u001b[39;49;00m\n\u001b[0;32m   1540\u001b[0m \u001b[43m                             \u001b[49m\u001b[38;5;28;43;01mNone\u001b[39;49;00m\u001b[43m,\u001b[49m\u001b[43m \u001b[49m\u001b[38;5;28;43;01mNone\u001b[39;49;00m\u001b[43m,\u001b[49m\n\u001b[0;32m   1541\u001b[0m \u001b[43m                             \u001b[49m\u001b[38;5;28;43mint\u001b[39;49m\u001b[43m(\u001b[49m\u001b[38;5;129;43;01mnot\u001b[39;49;00m\u001b[43m \u001b[49m\u001b[43mclose_fds\u001b[49m\u001b[43m)\u001b[49m\u001b[43m,\u001b[49m\n\u001b[0;32m   1542\u001b[0m \u001b[43m                             \u001b[49m\u001b[43mcreationflags\u001b[49m\u001b[43m,\u001b[49m\n\u001b[0;32m   1543\u001b[0m \u001b[43m                             \u001b[49m\u001b[43menv\u001b[49m\u001b[43m,\u001b[49m\n\u001b[0;32m   1544\u001b[0m \u001b[43m                             \u001b[49m\u001b[43mcwd\u001b[49m\u001b[43m,\u001b[49m\n\u001b[0;32m   1545\u001b[0m \u001b[43m                             \u001b[49m\u001b[43mstartupinfo\u001b[49m\u001b[43m)\u001b[49m\n\u001b[0;32m   1546\u001b[0m \u001b[38;5;28;01mfinally\u001b[39;00m:\n\u001b[0;32m   1547\u001b[0m     \u001b[38;5;66;03m# Child is launched. Close the parent's copy of those pipe\u001b[39;00m\n\u001b[0;32m   1548\u001b[0m     \u001b[38;5;66;03m# handles that only the child should have open.  You need\u001b[39;00m\n\u001b[1;32m   (...)\u001b[0m\n\u001b[0;32m   1551\u001b[0m     \u001b[38;5;66;03m# pipe will not close when the child process exits and the\u001b[39;00m\n\u001b[0;32m   1552\u001b[0m     \u001b[38;5;66;03m# ReadFile will hang.\u001b[39;00m\n\u001b[0;32m   1553\u001b[0m     \u001b[38;5;28mself\u001b[39m\u001b[38;5;241m.\u001b[39m_close_pipe_fds(p2cread, p2cwrite,\n\u001b[0;32m   1554\u001b[0m                          c2pread, c2pwrite,\n\u001b[0;32m   1555\u001b[0m                          errread, errwrite)\n",
      "\u001b[1;31mOSError\u001b[0m: [WinError 193] %1 is not a valid Win32 application"
     ]
    }
   ],
   "source": [
    "enum = EnumerateStructureTransformation(max_cell_size=4)\n",
    "enumerated = enum.apply_transformation(prim_cell, 100)  # return no more than 100 structures\n",
    "structures = [d[\"structure\"] for d in enumerated]  \n",
    "print(\"%d structures returned.\" % len(structures))"
   ]
  },
  {
   "cell_type": "markdown",
   "metadata": {},
   "source": [
    "# VASP input generation\n",
    "\n",
    "Pymatgen has useful classes for batch generating VASP input files that use parameters that are compatible with those used in the Materials Project. These parameters have been well-tested over a large database of structures in different chemistries. Using the same parameters also allow the energies computed to be compared with those in the Materials Project database for phase stability and other analyses."
   ]
  },
  {
   "cell_type": "code",
   "execution_count": 6,
   "metadata": {
    "collapsed": true
   },
   "outputs": [],
   "source": [
    "batch_write_input(structures, vasp_input_set=MPRelaxSet, output_dir=\"Li6PS5Cl_orderings\")"
   ]
  }
 ],
 "metadata": {
  "kernelspec": {
   "display_name": "mace-env",
   "language": "python",
   "name": "python3"
  },
  "language_info": {
   "codemirror_mode": {
    "name": "ipython",
    "version": 3
   },
   "file_extension": ".py",
   "mimetype": "text/x-python",
   "name": "python",
   "nbconvert_exporter": "python",
   "pygments_lexer": "ipython3",
   "version": "3.11.9"
  }
 },
 "nbformat": 4,
 "nbformat_minor": 0
}
